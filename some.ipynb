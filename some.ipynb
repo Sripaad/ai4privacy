{
 "cells": [
  {
   "cell_type": "code",
   "execution_count": 11,
   "metadata": {},
   "outputs": [
    {
     "ename": "TypeError",
     "evalue": "Anonymizer.__init__() got an unexpected keyword argument 'device'",
     "output_type": "error",
     "traceback": [
      "\u001b[0;31m---------------------------------------------------------------------------\u001b[0m",
      "\u001b[0;31mTypeError\u001b[0m                                 Traceback (most recent call last)",
      "\u001b[1;32m/Users/sripaadsrinivasan/Projects/ai4privacy/some.ipynb Cell 1\u001b[0m line \u001b[0;36m3\n\u001b[1;32m      <a href='vscode-notebook-cell:/Users/sripaadsrinivasan/Projects/ai4privacy/some.ipynb#W0sZmlsZQ%3D%3D?line=0'>1</a>\u001b[0m \u001b[39mfrom\u001b[39;00m \u001b[39mai4p\u001b[39;00m\u001b[39m.\u001b[39;00m\u001b[39mAI4P\u001b[39;00m \u001b[39mimport\u001b[39;00m Anonymizer\n\u001b[0;32m----> <a href='vscode-notebook-cell:/Users/sripaadsrinivasan/Projects/ai4privacy/some.ipynb#W0sZmlsZQ%3D%3D?line=2'>3</a>\u001b[0m anonymizer \u001b[39m=\u001b[39m Anonymizer(device\u001b[39m=\u001b[39;49m\u001b[39m-\u001b[39;49m\u001b[39m1\u001b[39;49m)\n\u001b[1;32m      <a href='vscode-notebook-cell:/Users/sripaadsrinivasan/Projects/ai4privacy/some.ipynb#W0sZmlsZQ%3D%3D?line=4'>5</a>\u001b[0m input_sentence \u001b[39m=\u001b[39m \u001b[39m\"\u001b[39m\u001b[39mMy name is Clara and I live in Berkeley, California.\u001b[39m\u001b[39m\"\u001b[39m\n\u001b[1;32m      <a href='vscode-notebook-cell:/Users/sripaadsrinivasan/Projects/ai4privacy/some.ipynb#W0sZmlsZQ%3D%3D?line=5'>6</a>\u001b[0m pii_masked_sentence \u001b[39m=\u001b[39m anonymizer\u001b[39m.\u001b[39mpii_mask(input_sentence)\n",
      "\u001b[0;31mTypeError\u001b[0m: Anonymizer.__init__() got an unexpected keyword argument 'device'"
     ]
    }
   ],
   "source": [
    "from ai4p.AI4P import Anonymizer\n",
    "\n",
    "anonymizer = Anonymizer()\n",
    "\n",
    "input_sentence = \"My name is Clara and I live in Berkeley, California.\"\n",
    "pii_masked_sentence = anonymizer.pii_mask(input_sentence)\n",
    "\n",
    "print(\"-\" *100)\n",
    "print(\"[INPUT]: \", input_sentence)\n",
    "print(\"[PII_MASKED]: \", pii_masked_sentence)\n",
    "print(\"-\" *100)"
   ]
  },
  {
   "cell_type": "code",
   "execution_count": 8,
   "metadata": {},
   "outputs": [
    {
     "data": {
      "text/plain": [
       "-1"
      ]
     },
     "execution_count": 8,
     "metadata": {},
     "output_type": "execute_result"
    }
   ],
   "source": [
    "anonymizer.device"
   ]
  },
  {
   "cell_type": "code",
   "execution_count": null,
   "metadata": {},
   "outputs": [],
   "source": []
  }
 ],
 "metadata": {
  "kernelspec": {
   "display_name": "py10",
   "language": "python",
   "name": "python3"
  },
  "language_info": {
   "codemirror_mode": {
    "name": "ipython",
    "version": 3
   },
   "file_extension": ".py",
   "mimetype": "text/x-python",
   "name": "python",
   "nbconvert_exporter": "python",
   "pygments_lexer": "ipython3",
   "version": "3.10.13"
  }
 },
 "nbformat": 4,
 "nbformat_minor": 2
}
