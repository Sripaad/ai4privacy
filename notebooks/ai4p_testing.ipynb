{
 "cells": [
  {
   "cell_type": "code",
   "execution_count": 4,
   "metadata": {},
   "outputs": [],
   "source": [
    "from transformers import pipeline\n",
    "import torch"
   ]
  },
  {
   "cell_type": "code",
   "execution_count": 8,
   "metadata": {},
   "outputs": [],
   "source": [
    "gen = pipeline(\"token-classification\", \"Isotonic/distilbert_finetuned_ai4privacy\", device=-1, torch_dtype=torch.float32)"
   ]
  },
  {
   "cell_type": "code",
   "execution_count": 9,
   "metadata": {},
   "outputs": [],
   "source": [
    "text = \"My name is Claraly and I live in Berkeley, California.\""
   ]
  },
  {
   "cell_type": "code",
   "execution_count": 20,
   "metadata": {},
   "outputs": [],
   "source": [
    "output = gen(text, aggregation_strategy=\"simple\")"
   ]
  },
  {
   "cell_type": "code",
   "execution_count": 21,
   "metadata": {},
   "outputs": [
    {
     "data": {
      "text/plain": [
       "[{'entity_group': 'USERAGENT',\n",
       "  'score': 0.8568921,\n",
       "  'word': 'responsive 6. 0 +',\n",
       "  'start': 50,\n",
       "  'end': 65},\n",
       " {'entity_group': 'USERAGENT',\n",
       "  'score': 0.8719265,\n",
       "  'word': 'retina 4. 0 +',\n",
       "  'start': 67,\n",
       "  'end': 78},\n",
       " {'entity_group': 'USERAGENT',\n",
       "  'score': 0.7608481,\n",
       "  'word': 'para',\n",
       "  'start': 80,\n",
       "  'end': 84},\n",
       " {'entity_group': 'USERAGENT',\n",
       "  'score': 0.9923622,\n",
       "  'word': '##x 3. 0 + turbo 2. 0 +',\n",
       "  'start': 87,\n",
       "  'end': 104},\n",
       " {'entity_group': 'USERAGENT',\n",
       "  'score': 0.888705,\n",
       "  'word': 'mobilia 5. 0 +',\n",
       "  'start': 106,\n",
       "  'end': 118}]"
      ]
     },
     "execution_count": 21,
     "metadata": {},
     "output_type": "execute_result"
    }
   ],
   "source": [
    "output"
   ]
  },
  {
   "cell_type": "code",
   "execution_count": 22,
   "metadata": {},
   "outputs": [],
   "source": [
    "def replace_entities(output, text):\n",
    "    word_to_entity_group = dict(\n",
    "    (text[token[\"start\"] : token[\"end\"]], token[\"entity_group\"]) for token in output\n",
    ")\n",
    "    for i, token in enumerate(output):\n",
    "        word = list(word_to_entity_group.keys())[i]\n",
    "        text = text.replace(word, f\"[{word_to_entity_group[word]}]\")\n",
    "\n",
    "    return text"
   ]
  },
  {
   "cell_type": "code",
   "execution_count": 23,
   "metadata": {},
   "outputs": [],
   "source": [
    "text = \"\"\"These instructions apply to section-based themes (Responsive 6.0+, Retina 4.0+, Parallax 3.0+ Turbo 2.0+, Mobilia 5.0+). What theme version am I using? On your Collections pages & Featured Collections sections, you can easily show the secondary image of a product on hover by enabling one of the theme's built-in settings! Your Collection pages & Featured Collections sections will now display the secondary product image just by hovering over that product image thumbnail. Does this feature apply to all sections of the theme or just specific ones as listed in the text material?\"\"\""
   ]
  },
  {
   "cell_type": "code",
   "execution_count": 24,
   "metadata": {},
   "outputs": [
    {
     "data": {
      "text/plain": [
       "\"These instructions apply to section-based themes ([USERAGENT], [USERAGENT], [USERAGENT]lla[USERAGENT], [USERAGENT]). What theme version am I using? On your Collections pages & Featured Collections sections, you can easily show the secondary image of a product on hover by enabling one of the theme's built-in settings! Your Collection pages & Featured Collections sections will now display the secondary product image just by hovering over that product image thumbnail. Does this feature apply to all sections of the theme or just specific ones as listed in the text material?\""
      ]
     },
     "execution_count": 24,
     "metadata": {},
     "output_type": "execute_result"
    }
   ],
   "source": [
    "replace_entities(output, text)"
   ]
  },
  {
   "cell_type": "code",
   "execution_count": 55,
   "metadata": {},
   "outputs": [],
   "source": [
    "from transformers import pipeline"
   ]
  },
  {
   "cell_type": "code",
   "execution_count": 57,
   "metadata": {},
   "outputs": [],
   "source": [
    "from transformers import Pipeline"
   ]
  },
  {
   "cell_type": "code",
   "execution_count": 58,
   "metadata": {},
   "outputs": [
    {
     "data": {
      "text/plain": [
       "transformers.pipelines.base.Pipeline"
      ]
     },
     "execution_count": 58,
     "metadata": {},
     "output_type": "execute_result"
    }
   ],
   "source": []
  },
  {
   "cell_type": "code",
   "execution_count": null,
   "metadata": {},
   "outputs": [],
   "source": []
  }
 ],
 "metadata": {
  "kernelspec": {
   "display_name": "py10",
   "language": "python",
   "name": "python3"
  },
  "language_info": {
   "codemirror_mode": {
    "name": "ipython",
    "version": 3
   },
   "file_extension": ".py",
   "mimetype": "text/x-python",
   "name": "python",
   "nbconvert_exporter": "python",
   "pygments_lexer": "ipython3",
   "version": "3.10.13"
  }
 },
 "nbformat": 4,
 "nbformat_minor": 4
}
