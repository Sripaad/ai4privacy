{
 "cells": [
  {
   "cell_type": "markdown",
   "id": "d91b46b4-0653-4b43-8dfd-f63681162e3e",
   "metadata": {},
   "source": [
    "# Validation Dataset/ Enron"
   ]
  },
  {
   "cell_type": "code",
   "execution_count": 1,
   "id": "536d9f93-8c5d-458b-9151-eb68ef64c89f",
   "metadata": {},
   "outputs": [],
   "source": [
    "import random\n",
    "from transformers import pipeline\n",
    "from datasets import load_dataset\n",
    "from tqdm import tqdm"
   ]
  },
  {
   "cell_type": "code",
   "execution_count": 2,
   "id": "da298b90-2574-43e3-b535-726fe873dd96",
   "metadata": {},
   "outputs": [
    {
     "data": {
      "application/vnd.jupyter.widget-view+json": {
       "model_id": "2edb8977f60046009d01137ad5bb5966",
       "version_major": 2,
       "version_minor": 0
      },
      "text/plain": [
       "Downloading data files:   0%|          | 0/1 [00:00<?, ?it/s]"
      ]
     },
     "metadata": {},
     "output_type": "display_data"
    },
    {
     "data": {
      "application/vnd.jupyter.widget-view+json": {
       "model_id": "6bef43cd5d024d5b95b60824fa94bc3b",
       "version_major": 2,
       "version_minor": 0
      },
      "text/plain": [
       "Extracting data files:   0%|          | 0/1 [00:00<?, ?it/s]"
      ]
     },
     "metadata": {},
     "output_type": "display_data"
    },
    {
     "data": {
      "application/vnd.jupyter.widget-view+json": {
       "model_id": "836172726d5443ccb14748ae16c53ef2",
       "version_major": 2,
       "version_minor": 0
      },
      "text/plain": [
       "Generating train split:   0%|          | 0/535703 [00:00<?, ? examples/s]"
      ]
     },
     "metadata": {},
     "output_type": "display_data"
    }
   ],
   "source": [
    "dataset = load_dataset(\"snoop2head/enron_aeslc_emails\")"
   ]
  },
  {
   "cell_type": "code",
   "execution_count": 3,
   "id": "a17c3081-6a4a-4e4f-9045-bc2333afd50d",
   "metadata": {},
   "outputs": [
    {
     "data": {
      "text/plain": [
       "DatasetDict({\n",
       "    train: Dataset({\n",
       "        features: ['text'],\n",
       "        num_rows: 535703\n",
       "    })\n",
       "})"
      ]
     },
     "execution_count": 3,
     "metadata": {},
     "output_type": "execute_result"
    }
   ],
   "source": [
    "dataset"
   ]
  },
  {
   "cell_type": "code",
   "execution_count": 7,
   "id": "e23be1f1-ddb9-42ad-967b-567236f1b8e6",
   "metadata": {},
   "outputs": [
    {
     "data": {
      "text/plain": [
       "\"Date: Tue, 11 Jul 2000 07:56:00 -0700 (PDT)\\nFrom: kay.mann@enron.com\\nTo: sheila.tweed@enron.com\\nSubject: Titan Land Development, LLC; Pontiac Letter of Intent\\nBody: \\nFYI.\\nI know it is because I'm new to the game, but I find this stuff interesting.\\nKay\\n---------------------- Forwarded by Kay Mann/Corp/Enron on 07/11/2000 02:55 \\nPM ---------------------------\\nFred Mitro@ECT\\n07/11/2000 02:29 PM\\nTo: Ben Jacoby/HOU/ECT@ECT\\ncc: Rusty Stevens/Corp/Enron@ENRON, Kay Mann/Corp/Enron@Enron \\nSubject: Titan Land Development, LLC; Pontiac Letter of Intent\\nBen:\\nAttached is the ComEd Letter of Intent to interconnect at the Pontiac TSS.  \\nUnder the guidelines of Appendix K of ComEd's Open Access Transmission \\nTarriff, we are required to execute this LOI within 15 days of the date of \\nreceipt (7/7/00) in order to maintain our current position (6/12/00) in the \\nComEd queue.  If we execute after 7/22/00, then the date our date in the \\nComEd queue becomes the date of execution of the LOI.\\nAppendix K provides that once the LOI is executed, ComEd shall provide Enron \\nwith an Interconnection Study (IS)  and Project Diagram (PD) within 45 days \\n(ComEd has the option to extend another 30 days, if needed).  The IS and PD \\nwill provide Enron with a description of the upgrades required and an \\nestimate of the proposed allocation of the cost to interconnect.  The IS and \\nPD do not provide Enron with information on transmission availability (ie \\nATC), this would be addressed by the Interconnection Feasibility Study \\ncurrently in progress by ComEd (I am expecting the results of this IFS in the \\nnext 2-3 weeks).  \\nComEd informed me in a discussion yesterday afternoon that their current \\ninterpretation of AppendixK provides that if the commercial start date of a \\nproposed IPP project is delayed, that there is no impact to that proposed \\nprojects' queue position relative to competing projects provided that all \\ninterconnection milestones (LOI, PD, Notice To Proceed, and IA) remain \\ncurrent.  ComEd further indicated that such a delay would result in a project \\nwith an inferior queue position (i.e. Wizvest) being charged with the \\nnecessary system upgrade costs even though their project would come on line \\nprior to the project with the superior queue position.  I will request that \\nthis interpretation be confirmed by ComEd in writing to Enron. (This \\ninterpretation obviously has a large value implication for the Torrence site \\nrelative to the Wizvest planned '01 interconnect).\\nI will review this letter on the plane to Houston this afternoon.  I believe \\nthat it authorizes ComEd to spend up to $100K on engineering related to the \\ninterconnect design.  It also addresses the ordering and payment \\nresponsibilities for long-lead equipment required to facilitate the proposed \\ninterconnection.  Based upon our development budget discussions earlier this \\nweek,  we obviously do not want to incurr long-lead equipment charges prior \\nto having a clear value proposition in our sights.  I will have \\nrecommendations ready for you on these issues by Wednesday.  I am \\nsimaltaneously forwarding it to Kay Mann for her review so that we will be in \\na position to move forward to execution prior to 7/22 if we choose to do so.  \\nFrom a legal standpoint, this is ComEd's boilerplate LOI.  I believe that we \\nexecuted a similar LOI for Wilton Center in early 1999 under Des Plaines \\nGreen Land Development, L.L.C. \\nCall me if you wish to discuss.\\nFred\\n---------------------- Forwarded by Fred Mitro/HOU/ECT on 07/07/2000 05:43 PM \\n---------------------------\\n<Bruce.L.Tanouye@ucm.com> on 07/07/2000 04:20:33 PM\\nTo: fred.mitro@enron.com\\ncc: Robert.D.Koszyk@ucm.com, Carter.C.Culver@ucm.com \\nSubject: Titan Land Development, LLC; Pontiac Letter of Intent\\nFred,\\nThank you for your request to Interconnect new generating facilities per\\nyour request to, Steven T. Naumann, Transmission Services Vice President.\\nPlease execute the Letter of Intent per the attachments to maintain your\\nplace in the queue of Applicants for interconnection.\\n <<1XM10!7.7.00.DOC>>  <<LOI attachmwn_7_7_00pontiac.doc>>\\nThank You\\nBruce L. Tanouye\\nCom*Ed Transmission Services\\nIndependent Power Production Services\\nPhone:  708-410-5276\\nFax:  708-410-5900\\nE-Mail:  bruce.l.tanouye@ucm.com\\n******************************************************************************\\n***\\nThis E-mail and any of its attachments may contain Unicom proprietary\\ninformation, which is privileged, confidential, or subject to copyright\\nbelonging to the Unicom family of Companies.  This E-mail is intended\\nsolely for the use of the individual or entity to which it is addressed.  If\\nyou are not the intended recipient of this E-mail, you are hereby notified\\nthat any dissemination, distribution, copying, or action taken in relation\\nto the contents of and attachments to this E-mail is strictly prohibited\\nand may be unlawful.  If you have received this E-mail in error, please\\nnotify the sender immediately and permanently delete the original and\\nany copy of this E-mail and any printout.  Thank You.\\n******************************************************************************\\n***\\n - 1XM10!7.7.00.DOC\\n - LOI attachmwn_7_7_00pontiac.doc\""
      ]
     },
     "execution_count": 7,
     "metadata": {},
     "output_type": "execute_result"
    }
   ],
   "source": [
    "choice = random.choice(dataset['train']['text'])\n",
    "choice"
   ]
  },
  {
   "cell_type": "code",
   "execution_count": 8,
   "id": "9fb2ca21-cc35-4fec-ae3b-f46dd3bda99e",
   "metadata": {},
   "outputs": [
    {
     "name": "stderr",
     "output_type": "stream",
     "text": [
      "/Users/sripaadsrinivasan/miniconda3/envs/py10/lib/python3.10/site-packages/transformers/pipelines/token_classification.py:169: UserWarning: `grouped_entities` is deprecated and will be removed in version v5.0.0, defaulted to `aggregation_strategy=\"simple\"` instead.\n",
      "  warnings.warn(\n"
     ]
    }
   ],
   "source": [
    "# \"Isotonic/distilbert_finetuned_ai4privacy_50k\"\n",
    "# \"Isotonic/electra_large_finetuned_ai4privacy_50k\"\n",
    "# \"Isotonic/electra_base_finetuned_ai4privacy_50k\"\n",
    "pipe = pipeline(\"token-classification\", model=\"Isotonic/distilbert_finetuned_ai4privacy_50k\", grouped_entities=True)"
   ]
  },
  {
   "cell_type": "code",
   "execution_count": 11,
   "id": "0881c32d-fa3b-43a8-99c9-0de177483433",
   "metadata": {},
   "outputs": [],
   "source": [
    "text = dataset['train'][0]['text']"
   ]
  },
  {
   "cell_type": "code",
   "execution_count": 48,
   "id": "a335dfef-2ecb-42b6-a1a3-f06c282688b2",
   "metadata": {},
   "outputs": [],
   "source": [
    "output = pipe(choice, aggregation_strategy=\"simple\")"
   ]
  },
  {
   "cell_type": "code",
   "execution_count": 49,
   "id": "a19aa040-9b15-4c68-abc8-1edd6b821aa0",
   "metadata": {},
   "outputs": [],
   "source": [
    "def replace_entities(output, text):\n",
    "    word_to_entity_group = dict(\n",
    "    (text[token[\"start\"] : token[\"end\"]], token[\"entity_group\"]) for token in output\n",
    "        )\n",
    "    assert len(word_to_entity_group) == len(output)\n",
    "    for i in range(len(word_to_entity_group)):\n",
    "        word = list(word_to_entity_group.keys())[i]\n",
    "        text = text.replace(word, f\"[{word_to_entity_group[word]}]\")\n",
    "        \n",
    "    return text"
   ]
  },
  {
   "cell_type": "code",
   "execution_count": 50,
   "id": "8acd2784-3f70-46b8-938a-f9c38814dfe9",
   "metadata": {
    "scrolled": true
   },
   "outputs": [
    {
     "ename": "AssertionError",
     "evalue": "",
     "output_type": "error",
     "traceback": [
      "\u001b[0;31m---------------------------------------------------------------------------\u001b[0m",
      "\u001b[0;31mAssertionError\u001b[0m                            Traceback (most recent call last)",
      "Cell \u001b[0;32mIn[50], line 2\u001b[0m\n\u001b[1;32m      1\u001b[0m \u001b[38;5;66;03m# electra large\u001b[39;00m\n\u001b[0;32m----> 2\u001b[0m \u001b[43mreplace_entities\u001b[49m\u001b[43m(\u001b[49m\u001b[43moutput\u001b[49m\u001b[43m,\u001b[49m\u001b[43m \u001b[49m\u001b[43mchoice\u001b[49m\u001b[43m)\u001b[49m\n",
      "Cell \u001b[0;32mIn[49], line 5\u001b[0m, in \u001b[0;36mreplace_entities\u001b[0;34m(output, text)\u001b[0m\n\u001b[1;32m      1\u001b[0m \u001b[38;5;28;01mdef\u001b[39;00m \u001b[38;5;21mreplace_entities\u001b[39m(output, text):\n\u001b[1;32m      2\u001b[0m     word_to_entity_group \u001b[38;5;241m=\u001b[39m \u001b[38;5;28mdict\u001b[39m(\n\u001b[1;32m      3\u001b[0m     (text[token[\u001b[38;5;124m\"\u001b[39m\u001b[38;5;124mstart\u001b[39m\u001b[38;5;124m\"\u001b[39m] : token[\u001b[38;5;124m\"\u001b[39m\u001b[38;5;124mend\u001b[39m\u001b[38;5;124m\"\u001b[39m]], token[\u001b[38;5;124m\"\u001b[39m\u001b[38;5;124mentity_group\u001b[39m\u001b[38;5;124m\"\u001b[39m]) \u001b[38;5;28;01mfor\u001b[39;00m token \u001b[38;5;129;01min\u001b[39;00m output\n\u001b[1;32m      4\u001b[0m         )\n\u001b[0;32m----> 5\u001b[0m     \u001b[38;5;28;01massert\u001b[39;00m \u001b[38;5;28mlen\u001b[39m(word_to_entity_group) \u001b[38;5;241m==\u001b[39m \u001b[38;5;28mlen\u001b[39m(output)\n\u001b[1;32m      6\u001b[0m     \u001b[38;5;28;01mfor\u001b[39;00m i \u001b[38;5;129;01min\u001b[39;00m \u001b[38;5;28mrange\u001b[39m(\u001b[38;5;28mlen\u001b[39m(word_to_entity_group)):\n\u001b[1;32m      7\u001b[0m         word \u001b[38;5;241m=\u001b[39m \u001b[38;5;28mlist\u001b[39m(word_to_entity_group\u001b[38;5;241m.\u001b[39mkeys())[i]\n",
      "\u001b[0;31mAssertionError\u001b[0m: "
     ]
    }
   ],
   "source": [
    "# electra large\n",
    "replace_entities(output, choice)"
   ]
  },
  {
   "cell_type": "code",
   "execution_count": 54,
   "id": "e37d8366-2964-4b9a-862f-dd1b58e2cee3",
   "metadata": {},
   "outputs": [],
   "source": [
    "word_to_entity_group = [(text[token[\"start\"] : token[\"end\"]], token[\"entity_group\"])for token in output]"
   ]
  },
  {
   "cell_type": "code",
   "execution_count": 52,
   "id": "58b75115-073a-4136-930c-d32f4457f3d2",
   "metadata": {
    "scrolled": true
   },
   "outputs": [
    {
     "data": {
      "text/plain": [
       "[{'entity_group': 'FIRSTNAME',\n",
       "  'score': 0.9019793,\n",
       "  'word': 'tue',\n",
       "  'start': 6,\n",
       "  'end': 9},\n",
       " {'entity_group': 'DATE',\n",
       "  'score': 0.87143403,\n",
       "  'word': '11 jul 2000',\n",
       "  'start': 11,\n",
       "  'end': 22},\n",
       " {'entity_group': 'DATE',\n",
       "  'score': 0.68959785,\n",
       "  'word': '07 : 56 : 00 - 0700',\n",
       "  'start': 23,\n",
       "  'end': 37},\n",
       " {'entity_group': 'EMAIL',\n",
       "  'score': 0.9957993,\n",
       "  'word': 'kay. mann @ enron. com',\n",
       "  'start': 50,\n",
       "  'end': 68},\n",
       " {'entity_group': 'EMAIL',\n",
       "  'score': 0.9959534,\n",
       "  'word': 'sheila. tweed @ enron. com',\n",
       "  'start': 73,\n",
       "  'end': 95},\n",
       " {'entity_group': 'CREDITCARDISSUER',\n",
       "  'score': 0.26694915,\n",
       "  'word': 'titan',\n",
       "  'start': 105,\n",
       "  'end': 110},\n",
       " {'entity_group': 'JOBTITLE',\n",
       "  'score': 0.61699444,\n",
       "  'word': 'development',\n",
       "  'start': 116,\n",
       "  'end': 127},\n",
       " {'entity_group': 'COUNTY',\n",
       "  'score': 0.21109982,\n",
       "  'word': 'pontiac',\n",
       "  'start': 134,\n",
       "  'end': 141},\n",
       " {'entity_group': 'FIRSTNAME',\n",
       "  'score': 0.77999896,\n",
       "  'word': 'kay',\n",
       "  'start': 288,\n",
       "  'end': 291},\n",
       " {'entity_group': 'LASTNAME',\n",
       "  'score': 0.63824165,\n",
       "  'word': 'mann',\n",
       "  'start': 292,\n",
       "  'end': 296},\n",
       " {'entity_group': 'DATE',\n",
       "  'score': 0.92931557,\n",
       "  'word': '07 / 11 / 2000',\n",
       "  'start': 311,\n",
       "  'end': 321},\n",
       " {'entity_group': 'TIME',\n",
       "  'score': 0.5843265,\n",
       "  'word': '02 : 55 pm',\n",
       "  'start': 322,\n",
       "  'end': 331},\n",
       " {'entity_group': 'FIRSTNAME',\n",
       "  'score': 0.8302225,\n",
       "  'word': 'fred',\n",
       "  'start': 360,\n",
       "  'end': 364},\n",
       " {'entity_group': 'LASTNAME',\n",
       "  'score': 0.7027519,\n",
       "  'word': 'mitro',\n",
       "  'start': 365,\n",
       "  'end': 370},\n",
       " {'entity_group': 'DATE',\n",
       "  'score': 0.88470733,\n",
       "  'word': '07 / 11 / 2000',\n",
       "  'start': 375,\n",
       "  'end': 385},\n",
       " {'entity_group': 'TIME',\n",
       "  'score': 0.7090394,\n",
       "  'word': '02 : 29 pm',\n",
       "  'start': 386,\n",
       "  'end': 394},\n",
       " {'entity_group': 'EMAIL',\n",
       "  'score': 0.32228023,\n",
       "  'word': 'rusty stevens',\n",
       "  'start': 426,\n",
       "  'end': 439},\n",
       " {'entity_group': 'EMAIL',\n",
       "  'score': 0.4036048,\n",
       "  'word': 'corp',\n",
       "  'start': 440,\n",
       "  'end': 444},\n",
       " {'entity_group': 'COMPANYNAME',\n",
       "  'score': 0.1920419,\n",
       "  'word': 'kay',\n",
       "  'start': 458,\n",
       "  'end': 461},\n",
       " {'entity_group': 'EMAIL',\n",
       "  'score': 0.29414335,\n",
       "  'word': 'mann',\n",
       "  'start': 462,\n",
       "  'end': 466},\n",
       " {'entity_group': 'CREDITCARDISSUER',\n",
       "  'score': 0.33883944,\n",
       "  'word': 'titan',\n",
       "  'start': 494,\n",
       "  'end': 499},\n",
       " {'entity_group': 'CITY',\n",
       "  'score': 0.30931273,\n",
       "  'word': 'pontiac',\n",
       "  'start': 615,\n",
       "  'end': 622},\n",
       " {'entity_group': 'STREET',\n",
       "  'score': 0.46355653,\n",
       "  'word': 'ts',\n",
       "  'start': 623,\n",
       "  'end': 625},\n",
       " {'entity_group': 'DATE',\n",
       "  'score': 0.9767021,\n",
       "  'word': '7 / 7 / 00',\n",
       "  'start': 787,\n",
       "  'end': 793},\n",
       " {'entity_group': 'DATE',\n",
       "  'score': 0.96625453,\n",
       "  'word': '6 / 12 / 00',\n",
       "  'start': 838,\n",
       "  'end': 845},\n",
       " {'entity_group': 'DATE',\n",
       "  'score': 0.9766964,\n",
       "  'word': '7 / 22 / 00',\n",
       "  'start': 889,\n",
       "  'end': 896}]"
      ]
     },
     "execution_count": 52,
     "metadata": {},
     "output_type": "execute_result"
    }
   ],
   "source": [
    "output"
   ]
  },
  {
   "cell_type": "code",
   "execution_count": 55,
   "id": "c1f7af1a-285c-4b62-b6d1-7812f8901a4b",
   "metadata": {},
   "outputs": [
    {
     "data": {
      "text/plain": [
       "[('Mon', 'FIRSTNAME'),\n",
       " ('14 May 2001', 'DATE'),\n",
       " ('16:39:00 -0700', 'DATE'),\n",
       " ('phillip.allen@enro', 'EMAIL'),\n",
       " ('\\nTo: tim.belden@enron.', 'EMAIL'),\n",
       " ('t: \\nB', 'CREDITCARDISSUER'),\n",
       " ('Here is our', 'JOBTITLE'),\n",
       " ('st\\n ', 'COUNTY'),\n",
       " ('', 'FIRSTNAME'),\n",
       " ('', 'LASTNAME'),\n",
       " ('', 'DATE'),\n",
       " ('', 'TIME'),\n",
       " ('', 'FIRSTNAME'),\n",
       " ('', 'LASTNAME'),\n",
       " ('', 'DATE'),\n",
       " ('', 'TIME'),\n",
       " ('', 'EMAIL'),\n",
       " ('', 'EMAIL'),\n",
       " ('', 'COMPANYNAME'),\n",
       " ('', 'EMAIL'),\n",
       " ('', 'CREDITCARDISSUER'),\n",
       " ('', 'CITY'),\n",
       " ('', 'STREET'),\n",
       " ('', 'DATE'),\n",
       " ('', 'DATE'),\n",
       " ('', 'DATE')]"
      ]
     },
     "execution_count": 55,
     "metadata": {},
     "output_type": "execute_result"
    }
   ],
   "source": [
    "word_to_entity_group"
   ]
  },
  {
   "cell_type": "code",
   "execution_count": null,
   "id": "dc48fcba-464b-47b0-a6b5-d8b7c3dcbcd8",
   "metadata": {},
   "outputs": [],
   "source": []
  }
 ],
 "metadata": {
  "kernelspec": {
   "display_name": "py10",
   "language": "python",
   "name": "py10"
  },
  "language_info": {
   "codemirror_mode": {
    "name": "ipython",
    "version": 3
   },
   "file_extension": ".py",
   "mimetype": "text/x-python",
   "name": "python",
   "nbconvert_exporter": "python",
   "pygments_lexer": "ipython3",
   "version": "3.10.13"
  }
 },
 "nbformat": 4,
 "nbformat_minor": 5
}
